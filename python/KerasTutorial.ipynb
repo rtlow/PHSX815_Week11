{
 "cells": [
  {
   "cell_type": "markdown",
   "metadata": {},
   "source": [
    "## PHSX 815 Neural Network with Keras tutorial\n",
    "### How can we predict the quality of wine based on its physical characteristics?\n",
    "We will download the `wine_quality` dataset from Tensorflow (the Keras backend) to train a neural network to predict wine quality."
   ]
  },
  {
   "cell_type": "code",
   "execution_count": 1,
   "metadata": {},
   "outputs": [],
   "source": [
    "import matplotlib.pyplot as plt\n",
    "import seaborn as sns\n",
    "import numpy as np\n",
    "from sklearn.preprocessing import OneHotEncoder, MinMaxScaler\n",
    "from sklearn.metrics import confusion_matrix\n",
    "from sklearn.model_selection import train_test_split\n",
    "import pandas as pd\n",
    "\n",
    "import tensorflow as tf\n",
    "from tensorflow.keras.models import Sequential, Model\n",
    "from tensorflow.keras.layers import *\n",
    "# from tensorflow.keras.optimizers import SGD, Adam\n",
    "# from tensorflow.keras.activations import relu\n",
    "import tensorflow_datasets as tfds\n",
    "from IPython.core.interactiveshell import InteractiveShell\n",
    "InteractiveShell.ast_node_interactivity = \"all\""
   ]
  },
  {
   "cell_type": "code",
   "execution_count": 2,
   "metadata": {},
   "outputs": [
    {
     "name": "stdout",
     "output_type": "stream",
     "text": [
      "Features and label for first entry\n",
      "{'alcohol': 9.0, 'chlorides': 0.054, 'citric acid': 0.34, 'density': 1.0008, 'fixed acidity': 7.6, 'free sulfur dioxide': 44.0, 'pH': 3.22, 'residual sugar': 18.35, 'sulphates': 0.550000011920929, 'total sulfur dioxide': 197.0, 'volatile acidity': 0.32} 5\n",
      "number of samples 6497\n",
      "possible wine quality ratings [5 6 4 8 7 3 9]\n"
     ]
    }
   ],
   "source": [
    "#if you want to load the data as tuples, you can use the as_supervised=True argument\n",
    "data_train = tfds.load('wine_quality',split='train',as_supervised=True)\n",
    "\n",
    "#looking at just one sample of our data\n",
    "pt = data_train.take(1)\n",
    "# type(pt)\n",
    "\n",
    "#can convert this TakeDataset object to a numpy array (can do this for the whole dataset too)\n",
    "print(\"Features and label for first entry\")\n",
    "for features, label in tfds.as_numpy(pt):\n",
    "    print(features,label)\n",
    "\n",
    "#we want to load dataset as a a dictionary of tf.Tensors (can't transform tuples to dataframe)\n",
    "data_train_white = tfds.load('wine_quality/white',split='train')\n",
    "data_train_red = tfds.load('wine_quality/red',split='train')\n",
    "\n",
    "#transform dictionary to dataframe - combining red and white wine\n",
    "df_white = tfds.as_dataframe(data_train_white)\n",
    "df_red = tfds.as_dataframe(data_train_red)\n",
    "df = pd.concat([df_white,df_red])\n",
    "\n",
    "print('number of samples',len(df['quality']))\n",
    "\n",
    "#what are our output possibilities?\n",
    "print('possible wine quality ratings',df['quality'].unique())"
   ]
  },
  {
   "cell_type": "code",
   "execution_count": 3,
   "metadata": {},
   "outputs": [
    {
     "name": "stdout",
     "output_type": "stream",
     "text": [
      "all good!\n"
     ]
    }
   ],
   "source": [
    "#do we have any missing data (empty or NaN entries in features or labels)?\n",
    "dataNans = df.isnull().values.any()\n",
    "if not dataNans:\n",
    "    print(\"all good!\")"
   ]
  },
  {
   "cell_type": "markdown",
   "metadata": {},
   "source": [
    "### Preprocessing our labels\n",
    "Although this may seem like a regression task for a neural network because we are predicting a number (wine quality), the labels are actually *categorical* not *continuous*. If you look at the labels, you see that they are integer values between 5 and 9. Because this is a classification problem, we need to one-hot encode our labels. This means taking our possible outcomes and turning them into arrays of a 1 and 0's. The index of the 1 in the array will tell us which class is which. So, for example, 5 becomes [1,0,0,0,0], 6 becomes [0,1,0,0,0] and so on. We can use a function from sklearn to do this automatically."
   ]
  },
  {
   "cell_type": "markdown",
   "metadata": {},
   "source": [
    "this dataset unfortunately only gives us training data - but we can set aside a portion for testing our network on. in practice, you don't want to test your network on data it has already seen (is it really a prediction if you use your model on data it was fitted to?) but, for educational purposes, we can ~randomly sample our data and call it ~iid.\n",
    "Here, I combine the red and white wine datasets for increased statistics. What happens if you train networks on these datasets separately? Or what happens if you use one dataset to train and one to test?"
   ]
  },
  {
   "cell_type": "code",
   "execution_count": 4,
   "metadata": {},
   "outputs": [
    {
     "data": {
      "text/plain": [
       "array([5, 6, 4, 8, 7, 3, 9])"
      ]
     },
     "execution_count": 4,
     "metadata": {},
     "output_type": "execute_result"
    },
    {
     "data": {
      "text/html": [
       "<div>\n",
       "<style scoped>\n",
       "    .dataframe tbody tr th:only-of-type {\n",
       "        vertical-align: middle;\n",
       "    }\n",
       "\n",
       "    .dataframe tbody tr th {\n",
       "        vertical-align: top;\n",
       "    }\n",
       "\n",
       "    .dataframe thead th {\n",
       "        text-align: right;\n",
       "    }\n",
       "</style>\n",
       "<table border=\"1\" class=\"dataframe\">\n",
       "  <thead>\n",
       "    <tr style=\"text-align: right;\">\n",
       "      <th></th>\n",
       "      <th>features/alcohol</th>\n",
       "      <th>features/chlorides</th>\n",
       "      <th>features/citric acid</th>\n",
       "      <th>features/density</th>\n",
       "      <th>features/fixed acidity</th>\n",
       "      <th>features/free sulfur dioxide</th>\n",
       "      <th>features/pH</th>\n",
       "      <th>features/residual sugar</th>\n",
       "      <th>features/sulphates</th>\n",
       "      <th>features/total sulfur dioxide</th>\n",
       "      <th>features/volatile acidity</th>\n",
       "    </tr>\n",
       "  </thead>\n",
       "  <tbody>\n",
       "    <tr>\n",
       "      <th>2579</th>\n",
       "      <td>10.4</td>\n",
       "      <td>0.036</td>\n",
       "      <td>0.41</td>\n",
       "      <td>0.99200</td>\n",
       "      <td>7.2</td>\n",
       "      <td>33.0</td>\n",
       "      <td>3.17</td>\n",
       "      <td>1.3</td>\n",
       "      <td>0.51</td>\n",
       "      <td>85.0</td>\n",
       "      <td>0.21</td>\n",
       "    </tr>\n",
       "    <tr>\n",
       "      <th>444</th>\n",
       "      <td>11.0</td>\n",
       "      <td>0.029</td>\n",
       "      <td>0.18</td>\n",
       "      <td>0.99060</td>\n",
       "      <td>5.7</td>\n",
       "      <td>26.0</td>\n",
       "      <td>3.44</td>\n",
       "      <td>1.4</td>\n",
       "      <td>0.37</td>\n",
       "      <td>104.0</td>\n",
       "      <td>0.32</td>\n",
       "    </tr>\n",
       "    <tr>\n",
       "      <th>128</th>\n",
       "      <td>11.3</td>\n",
       "      <td>0.040</td>\n",
       "      <td>0.32</td>\n",
       "      <td>0.99182</td>\n",
       "      <td>6.3</td>\n",
       "      <td>37.0</td>\n",
       "      <td>3.24</td>\n",
       "      <td>4.2</td>\n",
       "      <td>0.43</td>\n",
       "      <td>117.0</td>\n",
       "      <td>0.17</td>\n",
       "    </tr>\n",
       "    <tr>\n",
       "      <th>3195</th>\n",
       "      <td>12.9</td>\n",
       "      <td>0.030</td>\n",
       "      <td>0.31</td>\n",
       "      <td>0.98892</td>\n",
       "      <td>5.9</td>\n",
       "      <td>38.0</td>\n",
       "      <td>3.40</td>\n",
       "      <td>2.0</td>\n",
       "      <td>0.41</td>\n",
       "      <td>142.0</td>\n",
       "      <td>0.34</td>\n",
       "    </tr>\n",
       "    <tr>\n",
       "      <th>2815</th>\n",
       "      <td>10.5</td>\n",
       "      <td>0.052</td>\n",
       "      <td>0.36</td>\n",
       "      <td>0.99273</td>\n",
       "      <td>6.4</td>\n",
       "      <td>18.0</td>\n",
       "      <td>3.38</td>\n",
       "      <td>2.0</td>\n",
       "      <td>0.53</td>\n",
       "      <td>141.0</td>\n",
       "      <td>0.30</td>\n",
       "    </tr>\n",
       "  </tbody>\n",
       "</table>\n",
       "</div>"
      ],
      "text/plain": [
       "      features/alcohol  features/chlorides  features/citric acid  \\\n",
       "2579              10.4               0.036                  0.41   \n",
       "444               11.0               0.029                  0.18   \n",
       "128               11.3               0.040                  0.32   \n",
       "3195              12.9               0.030                  0.31   \n",
       "2815              10.5               0.052                  0.36   \n",
       "\n",
       "      features/density  features/fixed acidity  features/free sulfur dioxide  \\\n",
       "2579           0.99200                     7.2                          33.0   \n",
       "444            0.99060                     5.7                          26.0   \n",
       "128            0.99182                     6.3                          37.0   \n",
       "3195           0.98892                     5.9                          38.0   \n",
       "2815           0.99273                     6.4                          18.0   \n",
       "\n",
       "      features/pH  features/residual sugar  features/sulphates  \\\n",
       "2579         3.17                      1.3                0.51   \n",
       "444          3.44                      1.4                0.37   \n",
       "128          3.24                      4.2                0.43   \n",
       "3195         3.40                      2.0                0.41   \n",
       "2815         3.38                      2.0                0.53   \n",
       "\n",
       "      features/total sulfur dioxide  features/volatile acidity  \n",
       "2579                           85.0                       0.21  \n",
       "444                           104.0                       0.32  \n",
       "128                           117.0                       0.17  \n",
       "3195                          142.0                       0.34  \n",
       "2815                          141.0                       0.30  "
      ]
     },
     "execution_count": 4,
     "metadata": {},
     "output_type": "execute_result"
    }
   ],
   "source": [
    "#it's helpful to separate our input features from our target features (quality) \n",
    "#so we can later only transform our inputs without changing our labels\n",
    "labels = df['quality']\n",
    "df = df.drop(labels='quality',axis=1)\n",
    "labels.unique()\n",
    "\n",
    "enc = OneHotEncoder(sparse=False)\n",
    "labels = enc.fit_transform(labels.to_numpy().reshape(-1,1))\n",
    "\n",
    "#make our test data\n",
    "df, df_test, labels, df_testLabels = train_test_split(df,labels,test_size=0.1)\n",
    "\n",
    "#look at the first 5 entries\n",
    "df.head()"
   ]
  },
  {
   "cell_type": "markdown",
   "metadata": {},
   "source": [
    "### some questions to consider:\n",
    "- how was this data obtained? what goes into engineering the features? what does \"quality\" mean?\n",
    "- do you have to normalize your features?\n",
    "- are there any correlations among features? is this expected? how can we encode this information to the NN or decouple these features?\n",
    "- what does the data look like?\n",
    "- do we have any missing or NaN entries?"
   ]
  },
  {
   "cell_type": "markdown",
   "metadata": {},
   "source": [
    "let's examine the data to see what kinds of transformations we need to make for preprocessing"
   ]
  },
  {
   "cell_type": "code",
   "execution_count": 5,
   "metadata": {},
   "outputs": [
    {
     "data": {
      "text/html": [
       "<div>\n",
       "<style scoped>\n",
       "    .dataframe tbody tr th:only-of-type {\n",
       "        vertical-align: middle;\n",
       "    }\n",
       "\n",
       "    .dataframe tbody tr th {\n",
       "        vertical-align: top;\n",
       "    }\n",
       "\n",
       "    .dataframe thead th {\n",
       "        text-align: right;\n",
       "    }\n",
       "</style>\n",
       "<table border=\"1\" class=\"dataframe\">\n",
       "  <thead>\n",
       "    <tr style=\"text-align: right;\">\n",
       "      <th></th>\n",
       "      <th>features/alcohol</th>\n",
       "      <th>features/chlorides</th>\n",
       "      <th>features/citric acid</th>\n",
       "      <th>features/density</th>\n",
       "      <th>features/fixed acidity</th>\n",
       "      <th>features/free sulfur dioxide</th>\n",
       "      <th>features/pH</th>\n",
       "      <th>features/residual sugar</th>\n",
       "      <th>features/sulphates</th>\n",
       "      <th>features/total sulfur dioxide</th>\n",
       "      <th>features/volatile acidity</th>\n",
       "    </tr>\n",
       "  </thead>\n",
       "  <tbody>\n",
       "    <tr>\n",
       "      <th>count</th>\n",
       "      <td>5847.000000</td>\n",
       "      <td>5847.000000</td>\n",
       "      <td>5847.000000</td>\n",
       "      <td>5847.000000</td>\n",
       "      <td>5847.000000</td>\n",
       "      <td>5847.000000</td>\n",
       "      <td>5847.000000</td>\n",
       "      <td>5847.000000</td>\n",
       "      <td>5847.000000</td>\n",
       "      <td>5847.000000</td>\n",
       "      <td>5847.000000</td>\n",
       "    </tr>\n",
       "    <tr>\n",
       "      <th>mean</th>\n",
       "      <td>10.501161</td>\n",
       "      <td>0.055964</td>\n",
       "      <td>0.318779</td>\n",
       "      <td>0.994683</td>\n",
       "      <td>7.209826</td>\n",
       "      <td>30.617240</td>\n",
       "      <td>3.218688</td>\n",
       "      <td>5.436549</td>\n",
       "      <td>0.531096</td>\n",
       "      <td>115.708568</td>\n",
       "      <td>0.339414</td>\n",
       "    </tr>\n",
       "    <tr>\n",
       "      <th>std</th>\n",
       "      <td>1.195450</td>\n",
       "      <td>0.034349</td>\n",
       "      <td>0.145282</td>\n",
       "      <td>0.003006</td>\n",
       "      <td>1.292639</td>\n",
       "      <td>17.867381</td>\n",
       "      <td>0.160870</td>\n",
       "      <td>4.756639</td>\n",
       "      <td>0.148507</td>\n",
       "      <td>56.519815</td>\n",
       "      <td>0.164678</td>\n",
       "    </tr>\n",
       "    <tr>\n",
       "      <th>min</th>\n",
       "      <td>8.000000</td>\n",
       "      <td>0.009000</td>\n",
       "      <td>0.000000</td>\n",
       "      <td>0.987110</td>\n",
       "      <td>3.800000</td>\n",
       "      <td>1.000000</td>\n",
       "      <td>2.720000</td>\n",
       "      <td>0.600000</td>\n",
       "      <td>0.220000</td>\n",
       "      <td>6.000000</td>\n",
       "      <td>0.080000</td>\n",
       "    </tr>\n",
       "    <tr>\n",
       "      <th>25%</th>\n",
       "      <td>9.500000</td>\n",
       "      <td>0.038000</td>\n",
       "      <td>0.250000</td>\n",
       "      <td>0.992300</td>\n",
       "      <td>6.400000</td>\n",
       "      <td>17.000000</td>\n",
       "      <td>3.110000</td>\n",
       "      <td>1.800000</td>\n",
       "      <td>0.430000</td>\n",
       "      <td>77.750000</td>\n",
       "      <td>0.230000</td>\n",
       "    </tr>\n",
       "    <tr>\n",
       "      <th>50%</th>\n",
       "      <td>10.300000</td>\n",
       "      <td>0.047000</td>\n",
       "      <td>0.310000</td>\n",
       "      <td>0.994890</td>\n",
       "      <td>7.000000</td>\n",
       "      <td>29.000000</td>\n",
       "      <td>3.210000</td>\n",
       "      <td>3.000000</td>\n",
       "      <td>0.510000</td>\n",
       "      <td>118.000000</td>\n",
       "      <td>0.290000</td>\n",
       "    </tr>\n",
       "    <tr>\n",
       "      <th>75%</th>\n",
       "      <td>11.300000</td>\n",
       "      <td>0.065000</td>\n",
       "      <td>0.390000</td>\n",
       "      <td>0.996995</td>\n",
       "      <td>7.700000</td>\n",
       "      <td>41.000000</td>\n",
       "      <td>3.320000</td>\n",
       "      <td>8.100000</td>\n",
       "      <td>0.600000</td>\n",
       "      <td>156.000000</td>\n",
       "      <td>0.400000</td>\n",
       "    </tr>\n",
       "    <tr>\n",
       "      <th>max</th>\n",
       "      <td>14.200000</td>\n",
       "      <td>0.610000</td>\n",
       "      <td>1.660000</td>\n",
       "      <td>1.038980</td>\n",
       "      <td>15.600000</td>\n",
       "      <td>289.000000</td>\n",
       "      <td>4.010000</td>\n",
       "      <td>65.800003</td>\n",
       "      <td>2.000000</td>\n",
       "      <td>440.000000</td>\n",
       "      <td>1.580000</td>\n",
       "    </tr>\n",
       "  </tbody>\n",
       "</table>\n",
       "</div>"
      ],
      "text/plain": [
       "       features/alcohol  features/chlorides  features/citric acid  \\\n",
       "count       5847.000000         5847.000000           5847.000000   \n",
       "mean          10.501161            0.055964              0.318779   \n",
       "std            1.195450            0.034349              0.145282   \n",
       "min            8.000000            0.009000              0.000000   \n",
       "25%            9.500000            0.038000              0.250000   \n",
       "50%           10.300000            0.047000              0.310000   \n",
       "75%           11.300000            0.065000              0.390000   \n",
       "max           14.200000            0.610000              1.660000   \n",
       "\n",
       "       features/density  features/fixed acidity  features/free sulfur dioxide  \\\n",
       "count       5847.000000             5847.000000                   5847.000000   \n",
       "mean           0.994683                7.209826                     30.617240   \n",
       "std            0.003006                1.292639                     17.867381   \n",
       "min            0.987110                3.800000                      1.000000   \n",
       "25%            0.992300                6.400000                     17.000000   \n",
       "50%            0.994890                7.000000                     29.000000   \n",
       "75%            0.996995                7.700000                     41.000000   \n",
       "max            1.038980               15.600000                    289.000000   \n",
       "\n",
       "       features/pH  features/residual sugar  features/sulphates  \\\n",
       "count  5847.000000              5847.000000         5847.000000   \n",
       "mean      3.218688                 5.436549            0.531096   \n",
       "std       0.160870                 4.756639            0.148507   \n",
       "min       2.720000                 0.600000            0.220000   \n",
       "25%       3.110000                 1.800000            0.430000   \n",
       "50%       3.210000                 3.000000            0.510000   \n",
       "75%       3.320000                 8.100000            0.600000   \n",
       "max       4.010000                65.800003            2.000000   \n",
       "\n",
       "       features/total sulfur dioxide  features/volatile acidity  \n",
       "count                    5847.000000                5847.000000  \n",
       "mean                      115.708568                   0.339414  \n",
       "std                        56.519815                   0.164678  \n",
       "min                         6.000000                   0.080000  \n",
       "25%                        77.750000                   0.230000  \n",
       "50%                       118.000000                   0.290000  \n",
       "75%                       156.000000                   0.400000  \n",
       "max                       440.000000                   1.580000  "
      ]
     },
     "execution_count": 5,
     "metadata": {},
     "output_type": "execute_result"
    }
   ],
   "source": [
    "df.describe()"
   ]
  },
  {
   "cell_type": "markdown",
   "metadata": {},
   "source": [
    "### Visualizing data\n",
    "If you want a cool and easy way to visualize not only the features, but also the correlations between features, you can use the following seaborn function, which will display the individual features on the diagonal of the subplots and the correlations between features\n",
    "\n",
    "`pl = sns.pairplot(df[df.columns], diag_kind='kde')`"
   ]
  },
  {
   "cell_type": "code",
   "execution_count": 6,
   "metadata": {},
   "outputs": [
    {
     "data": {
      "image/png": "[encoded data removed]",
      "text/plain": [
       "<Figure size 1080x1440 with 12 Axes>"
      ]
     },
     "metadata": {
      "needs_background": "light"
     },
     "output_type": "display_data"
    }
   ],
   "source": [
    "#visualizing our input features\n",
    "nFeatures = len(df.columns)\n",
    "nCols = 3\n",
    "nRows = int(np.ceil(nFeatures/nCols))\n",
    "cols = df.columns\n",
    "fig, axs = plt.subplots(nRows,nCols,figsize=(15,20))\n",
    "# for i, ax in enumerate(axs)\n",
    "col = 0\n",
    "for i in range(nRows):\n",
    "    for j in range(nCols):\n",
    "        if col >= nFeatures:\n",
    "            break\n",
    "        h = axs[i,j].hist(df[cols[col]])\n",
    "        h = axs[i,j].set_title(cols[col])\n",
    "        col += 1"
   ]
  },
  {
   "cell_type": "markdown",
   "metadata": {},
   "source": [
    "It looks like there are two types of sulfur dioxide features: total sulfur dioxide and free sulfur dioxide. I'm not entirely sure what sulfur dioxide is (I am neither a chemist nor a sommelier) so I'm curious if there is a correlation between these features. "
   ]
  },
  {
   "cell_type": "code",
   "execution_count": 7,
   "metadata": {},
   "outputs": [
    {
     "data": {
      "text/plain": [
       "<matplotlib.collections.PathCollection at 0x7f2786b103d0>"
      ]
     },
     "execution_count": 7,
     "metadata": {},
     "output_type": "execute_result"
    },
    {
     "data": {
      "image/png": "[encoded data removed]",
      "text/plain": [
       "<Figure size 432x288 with 1 Axes>"
      ]
     },
     "metadata": {
      "needs_background": "light"
     },
     "output_type": "display_data"
    }
   ],
   "source": [
    "plt.scatter(df['features/free sulfur dioxide'],df['features/total sulfur dioxide'])"
   ]
  },
  {
   "cell_type": "markdown",
   "metadata": {},
   "source": [
    "It looks like there is some correlation between these features. If I had to guess, I would say \"free sulfur dioxide\" is a subset of \"total sulfur dioxide\" but I'm not sure how or even if either of these features would affect the wine quality. This is where domain specific knowledge would be helpful! Since I have a degree in physics and not wine studies (contrary to what my weekend activities may imply) I am going to see what happens when we include both of these features in our network."
   ]
  },
  {
   "cell_type": "markdown",
   "metadata": {},
   "source": [
    "This was just a cursory look at our data. In reality, data scientists will spend most of their time feature engineering, fixing incomplete datasets, cleaning data, etc. Feel free to do more exploratory analysis on the data before you pass it through to a network!"
   ]
  },
  {
   "cell_type": "markdown",
   "metadata": {},
   "source": [
    "## Let's build our network!\n",
    "We want to build a simple DNN to essentially perform a categorization. Let's start with something simple: only a couple hidden layers and a handful of neurons. Of course, in accordance with the Universal Approximation Theorem, any function can be approximated arbitrarily well with an arbitrarily large number of layers (Lu et. al. 2017) or arbitrarily large number of neurons (Cybenko 1989). Does the network perform better or worse with an increase in layers or neurons?"
   ]
  },
  {
   "cell_type": "markdown",
   "metadata": {},
   "source": [
    "Let's try to add more layers and add more neurons to see what happens. In this case, 64 neurons per layer and 8 hidden layers."
   ]
  },
  {
   "cell_type": "code",
   "execution_count": 8,
   "metadata": {},
   "outputs": [
    {
     "name": "stdout",
     "output_type": "stream",
     "text": [
      "Model: \"sequential\"\n",
      "_________________________________________________________________\n",
      "Layer (type)                 Output Shape              Param #   \n",
      "=================================================================\n",
      "dense (Dense)                (None, 64)                768       \n",
      "_________________________________________________________________\n",
      "dense_1 (Dense)              (None, 64)                4160      \n",
      "_________________________________________________________________\n",
      "dense_2 (Dense)              (None, 64)                4160      \n",
      "_________________________________________________________________\n",
      "dense_3 (Dense)              (None, 64)                4160      \n",
      "_________________________________________________________________\n",
      "dense_4 (Dense)              (None, 64)                4160      \n",
      "_________________________________________________________________\n",
      "dense_5 (Dense)              (None, 64)                4160      \n",
      "_________________________________________________________________\n",
      "dense_6 (Dense)              (None, 64)                4160      \n",
      "_________________________________________________________________\n",
      "dense_7 (Dense)              (None, 64)                4160      \n",
      "_________________________________________________________________\n",
      "dense_8 (Dense)              (None, 7)                 455       \n",
      "=================================================================\n",
      "Total params: 30,343\n",
      "Trainable params: 30,343\n",
      "Non-trainable params: 0\n",
      "_________________________________________________________________\n"
     ]
    }
   ],
   "source": [
    "cols = df.columns\n",
    "nClasses = len(labels[0])\n",
    "\n",
    "#using Keras's Sequential model - https://keras.io/api/models/sequential/\n",
    "model = Sequential()\n",
    "#add input layer\n",
    "model.add(Input(shape=(len(cols),))) #the input layer shape should match the number of features we have\n",
    "#add first layer of fully connected neurons\n",
    "model.add(Dense(64,activation='relu'))\n",
    "#add second layer (first hidden layer)\n",
    "model.add(Dense(64,activation='relu'))\n",
    "#and one more because why not\n",
    "model.add(Dense(64,activation='relu'))\n",
    "\n",
    "model.add(Dense(64,activation='relu'))\n",
    "\n",
    "model.add(Dense(64,activation='relu'))\n",
    "\n",
    "model.add(Dense(64,activation='relu'))\n",
    "\n",
    "model.add(Dense(64,activation='relu'))\n",
    "\n",
    "model.add(Dense(64,activation='relu'))\n",
    "#finally, our output layer should have only one neuron because we are trying to predict only one number\n",
    "#notice how there is a different activation function in this layer\n",
    "#this is because we want our outputs for each class to be a probability\n",
    "model.add(Dense(nClasses,activation='softmax'))\n",
    "\n",
    "#compile our model - set our loss metric (categorical cross entropy) and optimizer (stochastic gradient descent)\n",
    "#how does the model performance change with different optimizers (ie AdaGrad, SGD, etc.)?\n",
    "model.compile(loss='CategoricalCrossentropy',optimizer='Adam',metrics=['accuracy'])\n",
    "\n",
    "#let's see a summary of our model\n",
    "model.summary()"
   ]
  },
  {
   "cell_type": "markdown",
   "metadata": {},
   "source": [
    "As shown above, we have a network with four layers, 128 neurons/layer, for a total of ~50k trainable parameters (remember: parameters are the biases and weights that the network learns). Imagine how many parameters a large, complex network at Google has!"
   ]
  },
  {
   "cell_type": "markdown",
   "metadata": {},
   "source": [
    "### the same model can be built using the generic Model class and slightly different syntax\n",
    "`\n",
    "inputs = tf.keras.Input(shape=(len(cols),))\n",
    "outputs_L1 = Dense(64, activation='relu')(inputs)\n",
    "outputs_L2 = Dense(64, activation='relu')(outputs_L1)\n",
    "outputs_L3 = Dense(64, activation='relu')(outputs_L2)\n",
    "pred = Dense(1)(outputs_L3)\n",
    "model = Model(inputs=inputs,outputs=pred)\n",
    "`"
   ]
  },
  {
   "cell_type": "markdown",
   "metadata": {},
   "source": [
    "### Training our model\n",
    "\n",
    "Let's give our model all the input features (df), the corresponding labels (labels)\n",
    "\n",
    "There is a 20% validation split, which means that 80% of our data will be used to train the model parameters\n",
    "while 20% of it will be saved to \"check\" our answers. This is data that the model has not seen (been trained on) so the performance on the validation data should give us an idea of if the model is over- or underfitting.\n",
    "\n",
    "We will train for 100 epochs, which means that the entire dataset will be passed through the whole network 100 times. Our batch size is 20, meaning that 20 samples at a time are passed to the network before the parameters are updated. The `shuffle` argument ensures that our data is shuffled before the beginning of each epoch to reduce spurious learned correlations. What happens if you let the model run for more epochs?\n"
   ]
  },
  {
   "cell_type": "code",
   "execution_count": 9,
   "metadata": {},
   "outputs": [
    {
     "name": "stdout",
     "output_type": "stream",
     "text": [
      "Epoch 1/100\n",
      "41/41 [==============================] - 0s 6ms/step - loss: 1.3741 - accuracy: 0.4142 - val_loss: 1.3005 - val_accuracy: 0.4353\n",
      "Epoch 2/100\n",
      "41/41 [==============================] - 0s 2ms/step - loss: 1.2792 - accuracy: 0.4406 - val_loss: 1.2512 - val_accuracy: 0.4365\n",
      "Epoch 3/100\n",
      "41/41 [==============================] - 0s 2ms/step - loss: 1.2622 - accuracy: 0.4418 - val_loss: 1.2344 - val_accuracy: 0.4365\n",
      "Epoch 4/100\n",
      "41/41 [==============================] - 0s 2ms/step - loss: 1.2543 - accuracy: 0.4365 - val_loss: 1.2192 - val_accuracy: 0.4484\n",
      "Epoch 5/100\n",
      "41/41 [==============================] - 0s 2ms/step - loss: 1.2374 - accuracy: 0.4435 - val_loss: 1.2120 - val_accuracy: 0.4433\n",
      "Epoch 6/100\n",
      "41/41 [==============================] - 0s 2ms/step - loss: 1.2369 - accuracy: 0.4391 - val_loss: 1.2015 - val_accuracy: 0.4530\n",
      "Epoch 7/100\n",
      "41/41 [==============================] - 0s 2ms/step - loss: 1.2250 - accuracy: 0.4550 - val_loss: 1.2028 - val_accuracy: 0.4519\n",
      "Epoch 8/100\n",
      "41/41 [==============================] - 0s 2ms/step - loss: 1.2107 - accuracy: 0.4643 - val_loss: 1.1916 - val_accuracy: 0.4410\n",
      "Epoch 9/100\n",
      "41/41 [==============================] - 0s 2ms/step - loss: 1.2087 - accuracy: 0.4619 - val_loss: 1.1809 - val_accuracy: 0.4735\n",
      "Epoch 10/100\n",
      "41/41 [==============================] - 0s 2ms/step - loss: 1.2022 - accuracy: 0.4555 - val_loss: 1.1698 - val_accuracy: 0.4775\n",
      "Epoch 11/100\n",
      "41/41 [==============================] - 0s 1ms/step - loss: 1.1953 - accuracy: 0.4599 - val_loss: 1.2034 - val_accuracy: 0.4615\n",
      "Epoch 12/100\n",
      "41/41 [==============================] - 0s 2ms/step - loss: 1.1876 - accuracy: 0.4585 - val_loss: 1.1748 - val_accuracy: 0.4615\n",
      "Epoch 13/100\n",
      "41/41 [==============================] - 0s 1ms/step - loss: 1.1605 - accuracy: 0.4778 - val_loss: 1.1248 - val_accuracy: 0.4809\n",
      "Epoch 14/100\n",
      "41/41 [==============================] - 0s 2ms/step - loss: 1.1427 - accuracy: 0.4873 - val_loss: 1.1371 - val_accuracy: 0.4860\n",
      "Epoch 15/100\n",
      "41/41 [==============================] - 0s 2ms/step - loss: 1.1661 - accuracy: 0.4787 - val_loss: 1.1485 - val_accuracy: 0.4707\n",
      "Epoch 16/100\n",
      "41/41 [==============================] - 0s 2ms/step - loss: 1.1291 - accuracy: 0.4905 - val_loss: 1.1037 - val_accuracy: 0.5060\n",
      "Epoch 17/100\n",
      "41/41 [==============================] - 0s 1ms/step - loss: 1.1199 - accuracy: 0.4939 - val_loss: 1.1075 - val_accuracy: 0.5066\n",
      "Epoch 18/100\n",
      "41/41 [==============================] - 0s 1ms/step - loss: 1.1313 - accuracy: 0.4914 - val_loss: 1.1288 - val_accuracy: 0.4952\n",
      "Epoch 19/100\n",
      "41/41 [==============================] - 0s 2ms/step - loss: 1.1260 - accuracy: 0.4878 - val_loss: 1.1930 - val_accuracy: 0.4387\n",
      "Epoch 20/100\n",
      "41/41 [==============================] - 0s 2ms/step - loss: 1.1240 - accuracy: 0.5032 - val_loss: 1.1250 - val_accuracy: 0.4855\n",
      "Epoch 21/100\n",
      "41/41 [==============================] - 0s 2ms/step - loss: 1.1033 - accuracy: 0.5156 - val_loss: 1.1145 - val_accuracy: 0.5191\n",
      "Epoch 22/100\n",
      "41/41 [==============================] - 0s 1ms/step - loss: 1.0984 - accuracy: 0.5105 - val_loss: 1.0883 - val_accuracy: 0.5128\n",
      "Epoch 23/100\n",
      "41/41 [==============================] - 0s 2ms/step - loss: 1.1025 - accuracy: 0.5088 - val_loss: 1.1011 - val_accuracy: 0.5111\n",
      "Epoch 24/100\n",
      "41/41 [==============================] - 0s 2ms/step - loss: 1.0881 - accuracy: 0.5117 - val_loss: 1.1302 - val_accuracy: 0.5031\n",
      "Epoch 25/100\n",
      "41/41 [==============================] - 0s 2ms/step - loss: 1.1017 - accuracy: 0.5081 - val_loss: 1.1359 - val_accuracy: 0.4980\n",
      "Epoch 26/100\n",
      "41/41 [==============================] - 0s 2ms/step - loss: 1.0959 - accuracy: 0.5083 - val_loss: 1.1642 - val_accuracy: 0.4860\n",
      "Epoch 27/100\n",
      "41/41 [==============================] - 0s 1ms/step - loss: 1.1096 - accuracy: 0.5034 - val_loss: 1.1367 - val_accuracy: 0.4957\n",
      "Epoch 28/100\n",
      "41/41 [==============================] - 0s 2ms/step - loss: 1.0899 - accuracy: 0.5210 - val_loss: 1.1709 - val_accuracy: 0.4718\n",
      "Epoch 29/100\n",
      "41/41 [==============================] - 0s 2ms/step - loss: 1.1083 - accuracy: 0.4941 - val_loss: 1.0847 - val_accuracy: 0.5191\n",
      "Epoch 30/100\n",
      "41/41 [==============================] - 0s 2ms/step - loss: 1.0728 - accuracy: 0.5257 - val_loss: 1.1778 - val_accuracy: 0.4729\n",
      "Epoch 31/100\n",
      "41/41 [==============================] - 0s 2ms/step - loss: 1.0890 - accuracy: 0.5147 - val_loss: 1.0768 - val_accuracy: 0.5265\n",
      "Epoch 32/100\n",
      "41/41 [==============================] - 0s 2ms/step - loss: 1.0662 - accuracy: 0.5247 - val_loss: 1.0760 - val_accuracy: 0.5333\n",
      "Epoch 33/100\n",
      "41/41 [==============================] - 0s 1ms/step - loss: 1.0689 - accuracy: 0.5269 - val_loss: 1.0948 - val_accuracy: 0.5151\n",
      "Epoch 34/100\n",
      "41/41 [==============================] - 0s 1ms/step - loss: 1.0667 - accuracy: 0.5252 - val_loss: 1.0850 - val_accuracy: 0.5322\n",
      "Epoch 35/100\n",
      "41/41 [==============================] - 0s 2ms/step - loss: 1.0526 - accuracy: 0.5313 - val_loss: 1.0734 - val_accuracy: 0.5356\n",
      "Epoch 36/100\n",
      "41/41 [==============================] - 0s 2ms/step - loss: 1.0770 - accuracy: 0.5264 - val_loss: 1.0945 - val_accuracy: 0.5031\n",
      "Epoch 37/100\n",
      "41/41 [==============================] - 0s 2ms/step - loss: 1.0612 - accuracy: 0.5323 - val_loss: 1.0810 - val_accuracy: 0.5105\n",
      "Epoch 38/100\n",
      "41/41 [==============================] - 0s 1ms/step - loss: 1.0595 - accuracy: 0.5283 - val_loss: 1.0816 - val_accuracy: 0.5197\n",
      "Epoch 39/100\n",
      "41/41 [==============================] - 0s 1ms/step - loss: 1.0691 - accuracy: 0.5279 - val_loss: 1.1199 - val_accuracy: 0.4946\n",
      "Epoch 40/100\n",
      "41/41 [==============================] - 0s 1ms/step - loss: 1.0743 - accuracy: 0.5132 - val_loss: 1.0750 - val_accuracy: 0.5242\n",
      "Epoch 41/100\n",
      "41/41 [==============================] - 0s 1ms/step - loss: 1.0502 - accuracy: 0.5323 - val_loss: 1.1120 - val_accuracy: 0.5134\n",
      "Epoch 42/100\n",
      "41/41 [==============================] - 0s 2ms/step - loss: 1.0705 - accuracy: 0.5154 - val_loss: 1.0920 - val_accuracy: 0.5094\n",
      "Epoch 43/100\n",
      "41/41 [==============================] - 0s 2ms/step - loss: 1.0568 - accuracy: 0.5313 - val_loss: 1.0782 - val_accuracy: 0.5191\n",
      "Epoch 44/100\n",
      "41/41 [==============================] - 0s 1ms/step - loss: 1.0601 - accuracy: 0.5313 - val_loss: 1.1078 - val_accuracy: 0.5140\n",
      "Epoch 45/100\n",
      "41/41 [==============================] - 0s 1ms/step - loss: 1.0444 - accuracy: 0.5337 - val_loss: 1.0813 - val_accuracy: 0.5191\n",
      "Epoch 46/100\n",
      "41/41 [==============================] - 0s 2ms/step - loss: 1.0513 - accuracy: 0.5352 - val_loss: 1.0782 - val_accuracy: 0.5225\n",
      "Epoch 47/100\n",
      "41/41 [==============================] - 0s 2ms/step - loss: 1.0440 - accuracy: 0.5369 - val_loss: 1.0954 - val_accuracy: 0.5083\n",
      "Epoch 48/100\n",
      "41/41 [==============================] - 0s 2ms/step - loss: 1.0528 - accuracy: 0.5315 - val_loss: 1.0996 - val_accuracy: 0.5077\n",
      "Epoch 49/100\n",
      "41/41 [==============================] - 0s 1ms/step - loss: 1.0315 - accuracy: 0.5472 - val_loss: 1.0775 - val_accuracy: 0.5373\n",
      "Epoch 50/100\n",
      "41/41 [==============================] - 0s 1ms/step - loss: 1.0364 - accuracy: 0.5389 - val_loss: 1.0817 - val_accuracy: 0.5311\n",
      "Epoch 51/100\n",
      "41/41 [==============================] - 0s 2ms/step - loss: 1.0433 - accuracy: 0.5393 - val_loss: 1.0780 - val_accuracy: 0.5293\n",
      "Epoch 52/100\n",
      "41/41 [==============================] - 0s 2ms/step - loss: 1.0417 - accuracy: 0.5296 - val_loss: 1.0796 - val_accuracy: 0.5362\n",
      "Epoch 53/100\n",
      "41/41 [==============================] - 0s 2ms/step - loss: 1.0220 - accuracy: 0.5433 - val_loss: 1.1104 - val_accuracy: 0.5151\n",
      "Epoch 54/100\n",
      "41/41 [==============================] - 0s 2ms/step - loss: 1.0421 - accuracy: 0.5296 - val_loss: 1.0656 - val_accuracy: 0.5333\n",
      "Epoch 55/100\n",
      "41/41 [==============================] - 0s 1ms/step - loss: 1.0159 - accuracy: 0.5479 - val_loss: 1.0851 - val_accuracy: 0.5162\n",
      "Epoch 56/100\n",
      "41/41 [==============================] - 0s 1ms/step - loss: 1.0178 - accuracy: 0.5435 - val_loss: 1.0796 - val_accuracy: 0.5305\n",
      "Epoch 57/100\n",
      "41/41 [==============================] - 0s 2ms/step - loss: 1.0360 - accuracy: 0.5459 - val_loss: 1.0807 - val_accuracy: 0.5282\n",
      "Epoch 58/100\n",
      "41/41 [==============================] - 0s 2ms/step - loss: 1.0188 - accuracy: 0.5479 - val_loss: 1.0809 - val_accuracy: 0.5305\n"
     ]
    },
    {
     "name": "stdout",
     "output_type": "stream",
     "text": [
      "Epoch 59/100\n",
      "41/41 [==============================] - 0s 2ms/step - loss: 1.0073 - accuracy: 0.5501 - val_loss: 1.0796 - val_accuracy: 0.5368\n",
      "Epoch 60/100\n",
      "41/41 [==============================] - 0s 1ms/step - loss: 1.0156 - accuracy: 0.5545 - val_loss: 1.0732 - val_accuracy: 0.5316\n",
      "Epoch 61/100\n",
      "41/41 [==============================] - 0s 1ms/step - loss: 1.0126 - accuracy: 0.5491 - val_loss: 1.0793 - val_accuracy: 0.5276\n",
      "Epoch 62/100\n",
      "41/41 [==============================] - 0s 1ms/step - loss: 1.0098 - accuracy: 0.5464 - val_loss: 1.0907 - val_accuracy: 0.5219\n",
      "Epoch 63/100\n",
      "41/41 [==============================] - 0s 2ms/step - loss: 1.0167 - accuracy: 0.5469 - val_loss: 1.0735 - val_accuracy: 0.5305\n",
      "Epoch 64/100\n",
      "41/41 [==============================] - 0s 2ms/step - loss: 1.0180 - accuracy: 0.5433 - val_loss: 1.0927 - val_accuracy: 0.5293\n",
      "Epoch 65/100\n",
      "41/41 [==============================] - 0s 2ms/step - loss: 1.0119 - accuracy: 0.5543 - val_loss: 1.0859 - val_accuracy: 0.5265\n",
      "Epoch 66/100\n",
      "41/41 [==============================] - 0s 1ms/step - loss: 1.0037 - accuracy: 0.5469 - val_loss: 1.1009 - val_accuracy: 0.5254\n",
      "Epoch 67/100\n",
      "41/41 [==============================] - 0s 2ms/step - loss: 1.0131 - accuracy: 0.5501 - val_loss: 1.1527 - val_accuracy: 0.4957\n",
      "Epoch 68/100\n",
      "41/41 [==============================] - 0s 2ms/step - loss: 1.0030 - accuracy: 0.5508 - val_loss: 1.0767 - val_accuracy: 0.5288\n",
      "Epoch 69/100\n",
      "41/41 [==============================] - 0s 2ms/step - loss: 0.9921 - accuracy: 0.5557 - val_loss: 1.0812 - val_accuracy: 0.5185\n",
      "Epoch 70/100\n",
      "41/41 [==============================] - 0s 2ms/step - loss: 0.9956 - accuracy: 0.5511 - val_loss: 1.0825 - val_accuracy: 0.5236\n",
      "Epoch 71/100\n",
      "41/41 [==============================] - 0s 1ms/step - loss: 0.9959 - accuracy: 0.5572 - val_loss: 1.0947 - val_accuracy: 0.5236\n",
      "Epoch 72/100\n",
      "41/41 [==============================] - 0s 1ms/step - loss: 1.0129 - accuracy: 0.5535 - val_loss: 1.1140 - val_accuracy: 0.5271\n",
      "Epoch 73/100\n",
      "41/41 [==============================] - 0s 1ms/step - loss: 1.0015 - accuracy: 0.5484 - val_loss: 1.0968 - val_accuracy: 0.5179\n",
      "Epoch 74/100\n",
      "41/41 [==============================] - 0s 2ms/step - loss: 0.9927 - accuracy: 0.5543 - val_loss: 1.1337 - val_accuracy: 0.5009\n",
      "Epoch 75/100\n",
      "41/41 [==============================] - 0s 2ms/step - loss: 0.9986 - accuracy: 0.5552 - val_loss: 1.0754 - val_accuracy: 0.5385\n",
      "Epoch 76/100\n",
      "41/41 [==============================] - 0s 1ms/step - loss: 0.9889 - accuracy: 0.5469 - val_loss: 1.0763 - val_accuracy: 0.5248\n",
      "Epoch 77/100\n",
      "41/41 [==============================] - 0s 2ms/step - loss: 0.9886 - accuracy: 0.5652 - val_loss: 1.0734 - val_accuracy: 0.5282\n",
      "Epoch 78/100\n",
      "41/41 [==============================] - 0s 1ms/step - loss: 0.9869 - accuracy: 0.5657 - val_loss: 1.0963 - val_accuracy: 0.5328\n",
      "Epoch 79/100\n",
      "41/41 [==============================] - 0s 2ms/step - loss: 0.9761 - accuracy: 0.5652 - val_loss: 1.0917 - val_accuracy: 0.5339\n",
      "Epoch 80/100\n",
      "41/41 [==============================] - 0s 2ms/step - loss: 0.9809 - accuracy: 0.5650 - val_loss: 1.0711 - val_accuracy: 0.5265\n",
      "Epoch 81/100\n",
      "41/41 [==============================] - 0s 2ms/step - loss: 0.9805 - accuracy: 0.5718 - val_loss: 1.1385 - val_accuracy: 0.5066\n",
      "Epoch 82/100\n",
      "41/41 [==============================] - 0s 1ms/step - loss: 1.0100 - accuracy: 0.5560 - val_loss: 1.1169 - val_accuracy: 0.5236\n",
      "Epoch 83/100\n",
      "41/41 [==============================] - 0s 1ms/step - loss: 0.9804 - accuracy: 0.5628 - val_loss: 1.0939 - val_accuracy: 0.5350\n",
      "Epoch 84/100\n",
      "41/41 [==============================] - 0s 2ms/step - loss: 0.9724 - accuracy: 0.5672 - val_loss: 1.0808 - val_accuracy: 0.5271\n",
      "Epoch 85/100\n",
      "41/41 [==============================] - 0s 2ms/step - loss: 0.9645 - accuracy: 0.5782 - val_loss: 1.0883 - val_accuracy: 0.5333\n",
      "Epoch 86/100\n",
      "41/41 [==============================] - 0s 2ms/step - loss: 0.9587 - accuracy: 0.5665 - val_loss: 1.0865 - val_accuracy: 0.5293\n",
      "Epoch 87/100\n",
      "41/41 [==============================] - 0s 1ms/step - loss: 0.9678 - accuracy: 0.5679 - val_loss: 1.1046 - val_accuracy: 0.5288\n",
      "Epoch 88/100\n",
      "41/41 [==============================] - 0s 1ms/step - loss: 0.9774 - accuracy: 0.5626 - val_loss: 1.0918 - val_accuracy: 0.5305\n",
      "Epoch 89/100\n",
      "41/41 [==============================] - 0s 2ms/step - loss: 0.9630 - accuracy: 0.5650 - val_loss: 1.0921 - val_accuracy: 0.5208\n",
      "Epoch 90/100\n",
      "41/41 [==============================] - 0s 2ms/step - loss: 0.9518 - accuracy: 0.5745 - val_loss: 1.0767 - val_accuracy: 0.5271\n",
      "Epoch 91/100\n",
      "41/41 [==============================] - 0s 2ms/step - loss: 0.9565 - accuracy: 0.5750 - val_loss: 1.0772 - val_accuracy: 0.5470\n",
      "Epoch 92/100\n",
      "41/41 [==============================] - 0s 2ms/step - loss: 0.9510 - accuracy: 0.5758 - val_loss: 1.0949 - val_accuracy: 0.5396\n",
      "Epoch 93/100\n",
      "41/41 [==============================] - 0s 1ms/step - loss: 0.9271 - accuracy: 0.5885 - val_loss: 1.0920 - val_accuracy: 0.5345\n",
      "Epoch 94/100\n",
      "41/41 [==============================] - 0s 1ms/step - loss: 0.9476 - accuracy: 0.5885 - val_loss: 1.1235 - val_accuracy: 0.5259\n",
      "Epoch 95/100\n",
      "41/41 [==============================] - 0s 1ms/step - loss: 0.9328 - accuracy: 0.5872 - val_loss: 1.0853 - val_accuracy: 0.5368\n",
      "Epoch 96/100\n",
      "41/41 [==============================] - 0s 2ms/step - loss: 0.9475 - accuracy: 0.5726 - val_loss: 1.0934 - val_accuracy: 0.5407\n",
      "Epoch 97/100\n",
      "41/41 [==============================] - 0s 2ms/step - loss: 0.9431 - accuracy: 0.5809 - val_loss: 1.1256 - val_accuracy: 0.5134\n",
      "Epoch 98/100\n",
      "41/41 [==============================] - 0s 2ms/step - loss: 0.9417 - accuracy: 0.5765 - val_loss: 1.0944 - val_accuracy: 0.5202\n",
      "Epoch 99/100\n",
      "41/41 [==============================] - 0s 1ms/step - loss: 0.9535 - accuracy: 0.5787 - val_loss: 1.1216 - val_accuracy: 0.5191\n",
      "Epoch 100/100\n",
      "41/41 [==============================] - 0s 1ms/step - loss: 0.9198 - accuracy: 0.5902 - val_loss: 1.1265 - val_accuracy: 0.5236\n"
     ]
    }
   ],
   "source": [
    "history = model.fit(\n",
    "    df, labels,\n",
    "    validation_split=0.3,\n",
    "    verbose=1, epochs=100, batch_size=100, shuffle=True)"
   ]
  },
  {
   "cell_type": "markdown",
   "metadata": {},
   "source": [
    "Let's define a function to visualize our loss"
   ]
  },
  {
   "cell_type": "code",
   "execution_count": 10,
   "metadata": {},
   "outputs": [
    {
     "data": {
      "image/png": "[encoded data removed]",
      "text/plain": [
       "<Figure size 432x288 with 1 Axes>"
      ]
     },
     "metadata": {
      "needs_background": "light"
     },
     "output_type": "display_data"
    }
   ],
   "source": [
    "def show_loss(history):\n",
    "    plt.figure()\n",
    "    plt.plot(history.history['val_loss'], label=\"val loss\")\n",
    "    plt.plot(history.history['loss'],label=\"train loss\")\n",
    "    plt.xlabel(\"Epoch\")\n",
    "    plt.ylabel(\"Loss\")\n",
    "    plt.legend()\n",
    "show_loss(history)"
   ]
  },
  {
   "cell_type": "markdown",
   "metadata": {},
   "source": [
    "It looks like our training loss is more or less monotonically minimized with each epoch (with some fluctuations) while the validation loss seems to be on average higher. The validation loss spikes more severely than the training loss, which is probably due to limited statistics (we only had ~6k samples and took onlt 20% of them for validation - it usually takes LOTS of data to train neural networks well!). The trend discrepancy between training and validation losses could indicate some overfitting in our model. What happens if you increase the percentage of data used for validation? Since it's pretty apparent we're overfitting to our training data, we could introduce some sort of regularization techniques, like L2 regularization (that penalizes large weights) or dropout (that randomly drops neurons in a layer with a set probability). What happens if you introduce some of these methods?"
   ]
  },
  {
   "cell_type": "markdown",
   "metadata": {},
   "source": [
    "### Remember that test data we set aside at the beginning?\n",
    "Now it's time to use it to evaluate our model performance!"
   ]
  },
  {
   "cell_type": "code",
   "execution_count": 11,
   "metadata": {
    "scrolled": true
   },
   "outputs": [
    {
     "name": "stdout",
     "output_type": "stream",
     "text": [
      "21/21 [==============================] - 0s 658us/step - loss: 1.1640 - accuracy: 0.4677\n",
      "Accuracy for test data is 0.4676923155784607\n"
     ]
    }
   ],
   "source": [
    "_, acc = model.evaluate(df_test, df_testLabels, verbose=1)\n",
    "print('Accuracy for test data is',acc)"
   ]
  },
  {
   "cell_type": "markdown",
   "metadata": {},
   "source": [
    "To plot our results, I just chose the highest probability of the classes and assigned the prediction to a class based on that rounding (highest probability gets a 1, every other class gets a 0). Then, I one-hot decoded the rounded array to get a single number for the class. "
   ]
  },
  {
   "cell_type": "code",
   "execution_count": 12,
   "metadata": {},
   "outputs": [
    {
     "data": {
      "image/png": "[encoded data removed]",
      "text/plain": [
       "<Figure size 432x288 with 2 Axes>"
      ]
     },
     "metadata": {
      "needs_background": "light"
     },
     "output_type": "display_data"
    }
   ],
   "source": [
    "preds = model.predict(df_test)\n",
    "#preds = [i.round() for i in preds]\n",
    "\n",
    "preds = tf.one_hot(tf.math.argmax(preds,axis=1), depth=len(preds[0]))\n",
    "\n",
    "preds = enc.inverse_transform(preds)\n",
    "testLabels = enc.inverse_transform(df_testLabels)\n",
    "cm = confusion_matrix(testLabels, preds)\n",
    "\n",
    "_ =plt.imshow(cm, cmap=plt.cm.Blues)\n",
    "_ = plt.xlabel(\"Predicted labels\")\n",
    "_ = plt.ylabel(\"True labels\")\n",
    "\n",
    "_ =plt.xticks(np.arange(0,len(np.unique(testLabels)),1),np.unique(testLabels))\n",
    "_ =plt.yticks(np.arange(0,len(np.unique(testLabels)),1),np.unique(testLabels))\n",
    "_ =plt.title('Confusion matrix ')\n",
    "_ =plt.colorbar()\n",
    "plt.show()"
   ]
  },
  {
   "cell_type": "markdown",
   "metadata": {},
   "source": [
    "It looks like our network is only predicting *some* of our classes. Maybe that's because really good wine (rated 8 and 9) is pretty rare? Let's check it out."
   ]
  },
  {
   "cell_type": "code",
   "execution_count": 13,
   "metadata": {},
   "outputs": [
    {
     "data": {
      "image/png": "[encoded data removed]",
      "text/plain": [
       "<Figure size 432x288 with 1 Axes>"
      ]
     },
     "metadata": {
      "needs_background": "light"
     },
     "output_type": "display_data"
    }
   ],
   "source": [
    "_=plt.hist(enc.inverse_transform(labels),label='training labels')\n",
    "_=plt.hist(testLabels,label='test labels')\n",
    "_=plt.yscale('log')\n",
    "_=plt.legend()"
   ]
  },
  {
   "cell_type": "markdown",
   "metadata": {},
   "source": [
    "Yep! Mostly 5s, 6s, and 7s. Only a handful of really good wines (8s and 9s) and really bad wines (3s and 4s). In fact, no scores below a 3! But no perfect 10s either. Overall, I would say that the dataset is imbalanced (mostly ok wines, some bad and some good - a pretty Gaussian distribution) and could benefit from data augmentation techniques like bootstrapping! Maybe you could even generate some more data from randomly sampling a known distribution...But if you train your model on mostly ok wines, then it learns the characteristics of those wines really well. So, when it's faced with a good or bad wine, it's not as sure how to classify it. You can see if this is happening by looking at the network output, which are the probabilities for each class (ie how sure the network is this sample belongs to a certain class)."
   ]
  },
  {
   "cell_type": "markdown",
   "metadata": {},
   "source": [
    "### Overall, \n",
    "our network performs ok with a training, validation, and test accuracy all around 50-60%. What could you change about the network or inputs? How do you think that would affect the model's predictions?"
   ]
  },
  {
   "cell_type": "markdown",
   "metadata": {},
   "source": [
    "With this change, it looks like the confusion matrix is more diagonal, however the validation loss comes apart from the training loss even more than before, which may be indicative of worse overfitting."
   ]
  },
  {
   "cell_type": "code",
   "execution_count": null,
   "metadata": {},
   "outputs": [],
   "source": []
  }
 ],
 "metadata": {
  "kernelspec": {
   "display_name": "Python 3",
   "language": "python",
   "name": "python3"
  },
  "language_info": {
   "codemirror_mode": {
    "name": "ipython",
    "version": 3
   },
   "file_extension": ".py",
   "mimetype": "text/x-python",
   "name": "python",
   "nbconvert_exporter": "python",
   "pygments_lexer": "ipython3",
   "version": "3.7.6"
  }
 },
 "nbformat": 4,
 "nbformat_minor": 2
}
